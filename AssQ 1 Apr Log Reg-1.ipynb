{
 "cells": [
  {
   "cell_type": "markdown",
   "id": "9fbf4af0-aa06-49a9-9cf2-ff94cb0c975f",
   "metadata": {},
   "source": [
    "# AssQ 1 -Apr Logistic Regression -1 "
   ]
  },
  {
   "cell_type": "code",
   "execution_count": null,
   "id": "27f69ca0-5ccb-4284-b5f7-8cadca07405c",
   "metadata": {},
   "outputs": [],
   "source": [
    "Q1. Explain the difference between linear regression and logistic regression models. Provide an example of \n",
    "a scenario where logistic regression would be more appropriate."
   ]
  },
  {
   "cell_type": "code",
   "execution_count": null,
   "id": "dd4fa774-23ed-4d33-86ee-1af40abb8315",
   "metadata": {},
   "outputs": [],
   "source": [
    "Linear regression uses the root-mean-square error (RMSE) to calculate the next weight value of the\n",
    "data points (or observations) spread across the regression line.\n",
    "Conversely, logistic regression uses a precision method to predict the next weight value.\n",
    "\n",
    "Medical researchers often use linear regression to understand the relationship between drug dosage \n",
    "and blood pressure of patients. For example, researchers might administer various dosages of \n",
    "a certain drug to patients and observe how their blood pressure responds.\n",
    "\n",
    "Logistic regression is an example of supervised learning. It is used to calculate or predict the\n",
    "probability of a binary (yes/no) event occurring. An example of logistic regression could be applying\n",
    "machine learning to determine if a person is likely to be infected with COVID-19 or not.\n",
    "\n",
    "Logistic regression is used to calculate the probability of a binary event occurring, and to \n",
    "deal with issues of classification. For example, predicting if an incoming email is spam or not spam,\n",
    "or predicting if a credit card transaction is fraudulent or not fraudulent\n",
    "\n",
    "Some of the real-world examples where logistic regression models can be used are:\n",
    "Predict whether or not a customer will default on a loan.\n",
    "Predict whether or not a patient will have a heart attack.\n",
    "Predict whether or not an email is a spam.\n",
    "Predict whether or not a student will pass/fail an exam"
   ]
  },
  {
   "cell_type": "code",
   "execution_count": null,
   "id": "5b3fe197-d127-49a4-88db-2ceff2864001",
   "metadata": {},
   "outputs": [],
   "source": []
  },
  {
   "cell_type": "code",
   "execution_count": null,
   "id": "bd3bb166-283e-49ce-9b12-86486014beb6",
   "metadata": {},
   "outputs": [],
   "source": [
    "Q2. What is the cost function used in logistic regression, and how is it optimized?"
   ]
  },
  {
   "cell_type": "code",
   "execution_count": null,
   "id": "5b32fe08-4868-4fef-ad70-f889d3875b19",
   "metadata": {},
   "outputs": [],
   "source": [
    "The cost functions of linear and logistic regressions are different.\n",
    "The linear regression cost function is the sum of the squared errors, \n",
    "while the logistic regression cost function is the negative log-likelihood.\n",
    "\n",
    "The cost function of logistic regression is derived from taking the log of the maximum likelihood function \n",
    "and applying negative to log loss function in order to use gradient descent for optimization purposes. \n",
    "This is why the cross-entropy loss function is also called a log loss function.\n",
    "\n",
    "Models like linear regression and logistic regression are trained by least squares optimization, \n",
    "and this is the most efficient approach to finding coefficients that minimize error for these models.\n",
    "Nevertheless, it is possible to use alternate optimization algorithms to fit a regression model to a training dataset.\n",
    "\n",
    "Logistic regression is finding best-fit parameters to a nonlinear function called the sigmoid. \n",
    "Methods of optimization can be used to find the best-fit parameters. Among the optimization algorithms,\n",
    "one of the most common algorithms is gradient ascent.\n",
    "Gradient ascent can be simplified with stochastic gradient ascent.\n",
    "\n",
    "A Cost function is used to gauge the performance of the Machine Learning model. \n",
    "A Machine Learning model devoid of the Cost function is futile. Cost Function helps \n",
    "to analyze how well a Machine Learning model performs.\n",
    "A Cost function basically compares the predicted values with the actual values"
   ]
  },
  {
   "cell_type": "code",
   "execution_count": null,
   "id": "e205f6b0-811e-4568-8ff9-54072d24c003",
   "metadata": {},
   "outputs": [],
   "source": []
  },
  {
   "cell_type": "code",
   "execution_count": null,
   "id": "ac6318f7-26e9-46e5-ab96-68dbab1baedb",
   "metadata": {},
   "outputs": [],
   "source": [
    "Q3. Explain the concept of regularization in logistic regression and how it helps prevent overfitting."
   ]
  },
  {
   "cell_type": "code",
   "execution_count": null,
   "id": "6f8de69b-c30a-4860-9e06-5acf61bab3f2",
   "metadata": {},
   "outputs": [],
   "source": [
    "Regularization is a technique that penalizes the coefficient. In an overfit model, \n",
    "the coefficients are generally inflated. Thus, Regularization adds penalties to the parameters\n",
    "and avoids them weigh heavily. The coefficients are added to the cost function of the linear equation\n",
    "\n",
    "Regularization in machine learning is the process of regularizing the parameters that constrain,\n",
    "regularizes, or shrinks the coefficient estimates towards zero. In other words, \n",
    "this technique discourages learning a more complex or flexible model, avoiding the risk of Overfitting.\n",
    "\n",
    "L1 regularization, also known as L1 norm or Lasso (in regression problems),\n",
    "combats overfitting by shrinking the parameters towards 0.\n",
    "\n",
    "Regularization refers to techniques that are used to calibrate machine learning models\n",
    "in order to minimize the adjusted loss function and prevent overfitting or underfitting."
   ]
  },
  {
   "cell_type": "code",
   "execution_count": null,
   "id": "22cc7e94-93e0-43ed-b2ae-9a37fe1c0ee9",
   "metadata": {},
   "outputs": [],
   "source": []
  },
  {
   "cell_type": "code",
   "execution_count": null,
   "id": "155ae6ed-8e3c-4f7d-a1a5-b3e3ebd6f92b",
   "metadata": {},
   "outputs": [],
   "source": [
    "Q4. What is the ROC curve, and how is it used to evaluate the performance of the logistic regression \n",
    "model?"
   ]
  },
  {
   "cell_type": "code",
   "execution_count": null,
   "id": "72129b6a-b124-40eb-a53f-2336ff998517",
   "metadata": {},
   "outputs": [],
   "source": [
    "The ROC curve is produced by calculating and plotting the true positive rate against\n",
    "the false positive rate for a single classifier at a variety of thresholds. For example, in logistic regression, \n",
    "the threshold would be the predicted probability of an observation belonging to the positive class.\n",
    "\n",
    "An ROC curve (receiver operating characteristic curve) is a graph showing the performance of \n",
    "a classification model at all classification thresholds. \n",
    "This curve plots two parameters: True Positive Rate. False Positive Rate\n",
    "\n",
    "The ROC curve is used to assess the overall diagnostic performance of a test and to compare\n",
    "the performance of two or more diagnostic tests. \n",
    "It is also used to select an optimal cut-off value for determining the presence or absence of a disease."
   ]
  },
  {
   "cell_type": "code",
   "execution_count": null,
   "id": "47efc83d-8a6b-464d-ad65-488d76d66f87",
   "metadata": {},
   "outputs": [],
   "source": []
  },
  {
   "cell_type": "code",
   "execution_count": null,
   "id": "8f373e9d-f8e8-4798-b092-ea6a8d45d94a",
   "metadata": {},
   "outputs": [],
   "source": [
    "Q5. What are some common techniques for feature selection in logistic regression? How do these \n",
    "techniques help improve the model's performance?"
   ]
  },
  {
   "cell_type": "code",
   "execution_count": null,
   "id": "5b3f7020-e5cd-49a9-9d92-da8717bd1e2b",
   "metadata": {},
   "outputs": [],
   "source": [
    "One must keep in mind to keep the right value of 'C' to get the desired number of redundant features. \n",
    "A higher value of 'C' may consider important features as redundant, \n",
    "whereas lower values of 'C' may not exclude the redundant features.\n",
    "\n",
    "RMSE is the most popular evaluation metric used in regression problems\n",
    "\n",
    "There are multiple methods that can be used to improve your logistic regression model.\n",
    "1 Data preprocessing. The greatest improvements are usually achieved with a proper data cleaning process. ...\n",
    "2 Feature scaling. Feature values can be comparably different by orders of magnitude. ...\n",
    "3 Regularization.\n",
    "\n",
    "How to improve the accuracy of a Regression Model -\n",
    "Handling Null/Missing Values.\n",
    "Data Visualization.\n",
    "Feature Selection and Scaling.\n",
    "Feature Engineering.\n",
    "Feature Transformation.\n",
    "Use of Ensemble and Boosting Algorithms.\n",
    "Hyperparameter Tuning."
   ]
  },
  {
   "cell_type": "code",
   "execution_count": null,
   "id": "4490d4ab-202e-4aab-bf2e-2308196829f9",
   "metadata": {},
   "outputs": [],
   "source": []
  },
  {
   "cell_type": "code",
   "execution_count": null,
   "id": "97b520a8-0cb8-48ed-9e25-d9f850285110",
   "metadata": {},
   "outputs": [],
   "source": [
    "Q6. How can you handle imbalanced datasets in logistic regression? What are some strategies for dealing \n",
    "with class imbalance?"
   ]
  },
  {
   "cell_type": "code",
   "execution_count": null,
   "id": "f3c4f254-c66d-4d88-a9b8-43aacd20743a",
   "metadata": {},
   "outputs": [],
   "source": [
    "In logistic regression, another technique comes handy to work with imbalance distribution.\n",
    "This is to use class-weights in accordance with the class distribution. \n",
    "Class-weights is the extent to which the algorithm is punished for any wrong prediction of that class.\n",
    "\n",
    "First, we will train a simple logistic regression then we will implement the weighted logistic \n",
    "regression with class_weights as 'balanced'. Finally, we will try to find the optimal value of\n",
    "class weights using a grid search. The metric we try to optimize will be the f1 score.\n",
    "\n",
    "The class weights can be balanced using the logistic regression model by just declaring\n",
    "the class_weight parameter as balanced in the logistic regression model.\n",
    "\n",
    "7 Techniques to Handle Imbalanced Data. ...\n",
    "Use the right evaluation metrics. ...\n",
    "Resample the training set. ...\n",
    "Use K-fold Cross-Validation in the Right Way. ...\n",
    "Ensemble Different Resampled Datasets. ...\n",
    "Resample with Different Ratios. ...\n",
    "Cluster the abundant class. ...\n",
    "Design Your Models."
   ]
  },
  {
   "cell_type": "code",
   "execution_count": null,
   "id": "32af614e-8d0e-46ff-a083-d5d180f71382",
   "metadata": {},
   "outputs": [],
   "source": []
  },
  {
   "cell_type": "code",
   "execution_count": null,
   "id": "6aad65d3-7603-4536-9ee7-a111482d27be",
   "metadata": {},
   "outputs": [],
   "source": [
    "Q7. Can you discuss some common issues and challenges that may arise when implementing logistic \n",
    "regression, and how they can be addressed? For example, what can be done if there is multicollinearity \n",
    "among the independent variables?"
   ]
  },
  {
   "cell_type": "code",
   "execution_count": null,
   "id": "68be95e1-4977-4316-83fb-01f210addbc7",
   "metadata": {},
   "outputs": [],
   "source": [
    "Logistic regression is the most widely used machine learning algorithm for classification problems. \n",
    "In its original form, it is used for binary classification problem which has only two classes to predict.\n",
    "\n",
    "What are the challenges faced by regression techniques-\n",
    "Non-Linearity of the response-predictor relationships. Correlation of error terms. \n",
    "A non-constant variance of the error term [Heteroscedasticity] Collinearity.\n",
    "\n",
    "Disadvantages of logistic regression\n",
    "Logistic regression fails to predict a continuous outcome. ...\n",
    "Logistic regression assumes linearity between the predicted (dependent) \n",
    "variable and the predictor (independent) variables. ...\n",
    "Logistic regression may not be accurate if the sample size is too small.\n",
    "\n",
    "If the independent features are correlated it may affect performance. \n",
    "It is often quite prone to noise and overfitting. If the number of observations is lesser than the number of features,\n",
    "Logistic Regression should not be used, otherwise, it may lead to overfitting.\n",
    "\n",
    "To reduce the amount of multicollinearity found in a statistical model, \n",
    "one can remove the specific variables identified as the most collinear. \n",
    "You can also try to combine or transform the offending variables to lower their correlation.\n",
    "\n",
    "The common way to prevent multicollinearity is to remove highly correlated predictors from the model.\n",
    "If you have two or more factors with a high VIF, remove one from the model. Because they supply redundant information,\n",
    "removing one of the correlated factors usually doesn't reduce the R-squared."
   ]
  }
 ],
 "metadata": {
  "kernelspec": {
   "display_name": "Python 3 (ipykernel)",
   "language": "python",
   "name": "python3"
  },
  "language_info": {
   "codemirror_mode": {
    "name": "ipython",
    "version": 3
   },
   "file_extension": ".py",
   "mimetype": "text/x-python",
   "name": "python",
   "nbconvert_exporter": "python",
   "pygments_lexer": "ipython3",
   "version": "3.10.6"
  }
 },
 "nbformat": 4,
 "nbformat_minor": 5
}
